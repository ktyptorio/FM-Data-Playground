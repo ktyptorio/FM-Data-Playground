{
  "nbformat": 4,
  "nbformat_minor": 0,
  "metadata": {
    "colab": {
      "name": "Data Collection and Cleaning.ipynb",
      "provenance": [],
      "collapsed_sections": [],
      "authorship_tag": "ABX9TyNv+hTWHkEB1h6tuh8q6qKM",
      "include_colab_link": true
    },
    "kernelspec": {
      "name": "python3",
      "display_name": "Python 3"
    },
    "language_info": {
      "name": "python"
    }
  },
  "cells": [
    {
      "cell_type": "markdown",
      "metadata": {
        "id": "view-in-github",
        "colab_type": "text"
      },
      "source": [
        "<a href=\"https://colab.research.google.com/github/ktyptorio/FM-Data-Playground/blob/main/Data_Collection_and_Cleaning.ipynb\" target=\"_parent\"><img src=\"https://colab.research.google.com/assets/colab-badge.svg\" alt=\"Open In Colab\"/></a>"
      ]
    },
    {
      "cell_type": "code",
      "source": [
        "import pandas as pd\n",
        "import numpy as np\n",
        "\n",
        "path = \"datafm22.xlsx\"\n",
        "dataset = pd.read_excel(path)"
      ],
      "metadata": {
        "id": "reLKMtEDAWjW"
      },
      "execution_count": 123,
      "outputs": []
    },
    {
      "cell_type": "code",
      "source": [
        "datafm = dataset.copy()"
      ],
      "metadata": {
        "id": "nfq4GlQVFF8g"
      },
      "execution_count": 142,
      "outputs": []
    },
    {
      "cell_type": "markdown",
      "source": [
        "Remove Whitespace"
      ],
      "metadata": {
        "id": "7M0T5bwJHPjP"
      }
    },
    {
      "cell_type": "code",
      "source": [
        "#Remove Whitespace in Columns\n",
        "datafm.columns = datafm.columns.str.strip()\n",
        "\n",
        "#Remove Whitespace in Cell\n",
        "for i in datafm.columns:\n",
        "  if datafm[i].dtype == 'object':\n",
        "    datafm[i] = datafm[i].str.strip()\n",
        "  else:\n",
        "    pass"
      ],
      "metadata": {
        "id": "wBzgk0H3EpIR"
      },
      "execution_count": 149,
      "outputs": []
    },
    {
      "cell_type": "markdown",
      "source": [
        "Update Format Height, Weight, Transfer Value dan Wage"
      ],
      "metadata": {
        "id": "KAKhG9QrF1c_"
      }
    },
    {
      "cell_type": "code",
      "source": [
        "#Update Format Kolom Height, Weight, dan Wage\n",
        "\n",
        "datafm['Height'] = datafm['Height'].str.replace(' cm','')\n",
        "datafm['Weight'] = datafm['Weight'].str.replace(' kg','')\n",
        "datafm['Wage'] = datafm['Wage'].str.replace('£','')\n",
        "datafm['Wage'] = datafm['Wage'].str.replace(' p/w','')\n",
        "datafm['Wage'] = datafm['Wage'].str.replace(',','')"
      ],
      "metadata": {
        "id": "fp-sXQTvFVxV"
      },
      "execution_count": 152,
      "outputs": []
    },
    {
      "cell_type": "code",
      "source": [
        "#Update Format Kolom Transfer Value\n",
        "\n",
        "for i in range(len(datafm)):\n",
        "  datafm['Transfer Value'][i] = datafm['Transfer Value'][i].split(' - ')[0]\n",
        "\n",
        "datafm['Transfer Value'] = datafm['Transfer Value'].str.replace('£','')\n",
        "\n",
        "def value_to_int(df_value):\n",
        "    try:\n",
        "        value = df_value[:-1]\n",
        "        suffix = df_value[-1:]\n",
        "\n",
        "        if suffix == 'M':\n",
        "            value = int(value) * 1000000\n",
        "        elif suffix == 'K':\n",
        "            value = int(value) * 1000\n",
        "        else:\n",
        "            value = df_value\n",
        "    except ValueError:\n",
        "        value = 0\n",
        "    return value\n",
        "\n",
        "for x in range(len(datafm['Transfer Value'])):\n",
        "  datafm['Transfer Value'][x] = value_to_int(datafm['Transfer Value'][x])"
      ],
      "metadata": {
        "id": "VyuRbOjwKgq4"
      },
      "execution_count": null,
      "outputs": []
    },
    {
      "cell_type": "markdown",
      "source": [
        "Null Handling pada Kolom Wage"
      ],
      "metadata": {
        "id": "hUsHxlVSIFbo"
      }
    },
    {
      "cell_type": "code",
      "source": [
        "datafm[datafm['Wage'].isnull() == True]"
      ],
      "metadata": {
        "id": "Akfk6eRuMUwR"
      },
      "execution_count": null,
      "outputs": []
    },
    {
      "cell_type": "code",
      "source": [
        "datafm['Wage'] = datafm['Wage'].replace('N/A','Unknown Wage')\n",
        "datafm['Wage'] = datafm['Wage'].str.replace('-','0')"
      ],
      "metadata": {
        "id": "mAlYo4VDI5UD"
      },
      "execution_count": 154,
      "outputs": []
    },
    {
      "cell_type": "markdown",
      "source": [
        "Null Handling pada Kolom Club dan Division"
      ],
      "metadata": {
        "id": "3DTnblAbLOfN"
      }
    },
    {
      "cell_type": "code",
      "source": [
        "datafm[datafm['Club'].isnull() == True]"
      ],
      "metadata": {
        "id": "bkuEVD30JNdv"
      },
      "execution_count": null,
      "outputs": []
    },
    {
      "cell_type": "code",
      "source": [
        "datafm['Club'] = datafm['Club'].replace('','No Club')\n",
        "datafm['Division'] = datafm['Division'].replace('-','No Division')"
      ],
      "metadata": {
        "id": "E-wMs1EMLXkf"
      },
      "execution_count": 155,
      "outputs": []
    },
    {
      "cell_type": "markdown",
      "source": [
        "Rename Nama Kolom"
      ],
      "metadata": {
        "id": "XLKdxTriMJR8"
      }
    },
    {
      "cell_type": "code",
      "source": [
        "datafm.rename(columns={'Nat':'Nation', 'Nat.1':'NatFin'}, inplace=True)"
      ],
      "metadata": {
        "id": "YcqnsrIRLoyz"
      },
      "execution_count": 158,
      "outputs": []
    },
    {
      "cell_type": "code",
      "source": [
        "datafm.to_csv('datafm22.csv', index=False)"
      ],
      "metadata": {
        "id": "B9O5B-cZ8d4Z"
      },
      "execution_count": 160,
      "outputs": []
    }
  ]
}