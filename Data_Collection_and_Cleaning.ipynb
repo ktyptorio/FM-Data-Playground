{
  "cells": [
    {
      "cell_type": "markdown",
      "metadata": {
        "colab_type": "text",
        "id": "view-in-github"
      },
      "source": [
        "<a href=\"https://colab.research.google.com/github/ktyptorio/FM-Data-Playground/blob/main/Data_Collection_and_Cleaning.ipynb\" target=\"_parent\"><img src=\"https://colab.research.google.com/assets/colab-badge.svg\" alt=\"Open In Colab\"/></a>"
      ]
    },
    {
      "cell_type": "code",
      "execution_count": 12,
      "metadata": {
        "id": "reLKMtEDAWjW"
      },
      "outputs": [],
      "source": [
        "import pandas as pd\n",
        "import numpy as np\n",
        "\n",
        "path = \"Data\\datafm22.xlsx\"\n",
        "dataset = pd.read_excel(path)"
      ]
    },
    {
      "cell_type": "code",
      "execution_count": 13,
      "metadata": {
        "id": "nfq4GlQVFF8g"
      },
      "outputs": [],
      "source": [
        "datafm = dataset.copy()"
      ]
    },
    {
      "cell_type": "markdown",
      "metadata": {
        "id": "7M0T5bwJHPjP"
      },
      "source": [
        "Remove Whitespace"
      ]
    },
    {
      "cell_type": "code",
      "execution_count": 14,
      "metadata": {
        "id": "wBzgk0H3EpIR"
      },
      "outputs": [],
      "source": [
        "#Remove Whitespace in Columns\n",
        "datafm.columns = datafm.columns.str.strip()\n",
        "\n",
        "#Remove Whitespace in Cell\n",
        "for i in datafm.columns:\n",
        "  if datafm[i].dtype == 'object':\n",
        "    datafm[i] = datafm[i].str.strip()\n",
        "  else:\n",
        "    pass"
      ]
    },
    {
      "cell_type": "markdown",
      "metadata": {
        "id": "KAKhG9QrF1c_"
      },
      "source": [
        "Update Format Height, Weight, Transfer Value dan Wage"
      ]
    },
    {
      "cell_type": "code",
      "execution_count": 15,
      "metadata": {
        "id": "fp-sXQTvFVxV"
      },
      "outputs": [],
      "source": [
        "#Update Format Kolom Height, Weight, dan Wage\n",
        "\n",
        "datafm['Height'] = datafm['Height'].str.replace(' cm','')\n",
        "datafm['Weight'] = datafm['Weight'].str.replace(' kg','')\n",
        "datafm['Wage'] = datafm['Wage'].str.replace('£','')\n",
        "datafm['Wage'] = datafm['Wage'].str.replace(' p/w','')\n",
        "datafm['Wage'] = datafm['Wage'].str.replace(',','')"
      ]
    },
    {
      "cell_type": "code",
      "execution_count": 16,
      "metadata": {
        "id": "VyuRbOjwKgq4"
      },
      "outputs": [
        {
          "name": "stderr",
          "output_type": "stream",
          "text": [
            "C:\\Users\\Ktyptorio\\AppData\\Local\\Temp\\ipykernel_22720\\146341618.py:4: SettingWithCopyWarning: \n",
            "A value is trying to be set on a copy of a slice from a DataFrame\n",
            "\n",
            "See the caveats in the documentation: https://pandas.pydata.org/pandas-docs/stable/user_guide/indexing.html#returning-a-view-versus-a-copy\n",
            "  datafm['Transfer Value'][i] = datafm['Transfer Value'][i].split(' - ')[0]\n",
            "C:\\Users\\Ktyptorio\\AppData\\Local\\Temp\\ipykernel_22720\\146341618.py:24: SettingWithCopyWarning: \n",
            "A value is trying to be set on a copy of a slice from a DataFrame\n",
            "\n",
            "See the caveats in the documentation: https://pandas.pydata.org/pandas-docs/stable/user_guide/indexing.html#returning-a-view-versus-a-copy\n",
            "  datafm['Transfer Value'][x] = value_to_int(datafm['Transfer Value'][x])\n"
          ]
        }
      ],
      "source": [
        "#Update Format Kolom Transfer Value\n",
        "\n",
        "for i in range(len(datafm)):\n",
        "  datafm['Transfer Value'][i] = datafm['Transfer Value'][i].split(' - ')[0]\n",
        "\n",
        "datafm['Transfer Value'] = datafm['Transfer Value'].str.replace('£','')\n",
        "\n",
        "def value_to_int(df_value):\n",
        "    try:\n",
        "        value = df_value[:-1]\n",
        "        suffix = df_value[-1:]\n",
        "\n",
        "        if suffix == 'M':\n",
        "            value = int(value) * 1000000\n",
        "        elif suffix == 'K':\n",
        "            value = int(value) * 1000\n",
        "        else:\n",
        "            value = df_value\n",
        "    except ValueError:\n",
        "        value = 0\n",
        "    return value\n",
        "\n",
        "for x in range(len(datafm['Transfer Value'])):\n",
        "  datafm['Transfer Value'][x] = value_to_int(datafm['Transfer Value'][x])"
      ]
    },
    {
      "cell_type": "markdown",
      "metadata": {
        "id": "hUsHxlVSIFbo"
      },
      "source": [
        "Null Handling pada Kolom Wage"
      ]
    },
    {
      "cell_type": "code",
      "execution_count": null,
      "metadata": {
        "id": "Akfk6eRuMUwR"
      },
      "outputs": [],
      "source": [
        "datafm[datafm['Wage'].isnull() == True]"
      ]
    },
    {
      "cell_type": "code",
      "execution_count": 18,
      "metadata": {
        "id": "mAlYo4VDI5UD"
      },
      "outputs": [],
      "source": [
        "datafm['Wage'] = datafm['Wage'].replace('N/A','Unknown Wage')\n",
        "datafm['Wage'] = datafm['Wage'].str.replace('-','0')"
      ]
    },
    {
      "cell_type": "markdown",
      "metadata": {
        "id": "3DTnblAbLOfN"
      },
      "source": [
        "Null Handling pada Kolom Club dan Division"
      ]
    },
    {
      "cell_type": "code",
      "execution_count": null,
      "metadata": {
        "id": "bkuEVD30JNdv"
      },
      "outputs": [],
      "source": [
        "datafm[datafm['Club'].isnull() == True]"
      ]
    },
    {
      "cell_type": "code",
      "execution_count": 19,
      "metadata": {
        "id": "E-wMs1EMLXkf"
      },
      "outputs": [],
      "source": [
        "datafm['Club'] = datafm['Club'].replace('','No Club')\n",
        "datafm['Division'] = datafm['Division'].replace('-','No Division')"
      ]
    },
    {
      "cell_type": "markdown",
      "metadata": {
        "id": "XLKdxTriMJR8"
      },
      "source": [
        "Rename Nama Kolom"
      ]
    },
    {
      "cell_type": "code",
      "execution_count": 20,
      "metadata": {
        "id": "YcqnsrIRLoyz"
      },
      "outputs": [],
      "source": [
        "datafm.rename(columns={'Nat':'Nation', 'Nat .1':'NatFin'}, inplace=True)"
      ]
    },
    {
      "cell_type": "code",
      "execution_count": null,
      "metadata": {},
      "outputs": [],
      "source": [
        "datafm"
      ]
    },
    {
      "cell_type": "code",
      "execution_count": 160,
      "metadata": {
        "id": "B9O5B-cZ8d4Z"
      },
      "outputs": [],
      "source": [
        "datafm.to_csv('datafm22.csv', index=False)"
      ]
    }
  ],
  "metadata": {
    "colab": {
      "authorship_tag": "ABX9TyNv+hTWHkEB1h6tuh8q6qKM",
      "collapsed_sections": [],
      "include_colab_link": true,
      "name": "Data Collection and Cleaning.ipynb",
      "provenance": []
    },
    "kernelspec": {
      "display_name": "Python 3",
      "name": "python3"
    },
    "language_info": {
      "codemirror_mode": {
        "name": "ipython",
        "version": 3
      },
      "file_extension": ".py",
      "mimetype": "text/x-python",
      "name": "python",
      "nbconvert_exporter": "python",
      "pygments_lexer": "ipython3",
      "version": "3.10.2"
    }
  },
  "nbformat": 4,
  "nbformat_minor": 0
}
