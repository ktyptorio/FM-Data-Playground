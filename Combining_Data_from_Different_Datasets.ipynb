{
  "nbformat": 4,
  "nbformat_minor": 0,
  "metadata": {
    "colab": {
      "name": "Combining Data from Different Datasets.ipynb",
      "provenance": [],
      "collapsed_sections": [],
      "authorship_tag": "ABX9TyNnGahAczbPv1CsLh9Y2T9e",
      "include_colab_link": true
    },
    "kernelspec": {
      "name": "python3",
      "display_name": "Python 3"
    },
    "language_info": {
      "name": "python"
    }
  },
  "cells": [
    {
      "cell_type": "markdown",
      "metadata": {
        "id": "view-in-github",
        "colab_type": "text"
      },
      "source": [
        "<a href=\"https://colab.research.google.com/github/ktyptorio/FM-Data-Playground/blob/main/Combining_Data_from_Different_Datasets.ipynb\" target=\"_parent\"><img src=\"https://colab.research.google.com/assets/colab-badge.svg\" alt=\"Open In Colab\"/></a>"
      ]
    },
    {
      "cell_type": "markdown",
      "source": [
        "#Data Preparation"
      ],
      "metadata": {
        "id": "8UN0lAHB2JMW"
      }
    },
    {
      "cell_type": "code",
      "execution_count": 1,
      "metadata": {
        "id": "7WHPT_2w0b4R"
      },
      "outputs": [],
      "source": [
        "import pandas as pd\n",
        "import numpy as np\n",
        "import plotly.express as px\n",
        "import plotly.graph_objects as go\n",
        "\n",
        "path0 = \"datafm22.csv\"\n",
        "path1 = \"Division Reputation.csv\"\n",
        "path2 = \"Club Reputation.csv\"\n",
        "path3 = \"National Point.csv\"\n",
        "path4 = \"Nation Code.csv\"\n",
        "path5 = \"Contract Expired.xlsx\"\n",
        "\n",
        "dataset = pd.read_csv(path0)\n",
        "divRep = pd.read_csv(path1)\n",
        "clubRep = pd.read_csv(path2)\n",
        "natPoint = pd.read_csv(path3)\n",
        "natCode = pd.read_csv(path4)\n",
        "contractExp = pd.read_excel(path5)"
      ]
    },
    {
      "cell_type": "code",
      "source": [
        "dataset"
      ],
      "metadata": {
        "id": "ne8Lg4rT1zGP"
      },
      "execution_count": null,
      "outputs": []
    },
    {
      "cell_type": "code",
      "source": [
        "divRep"
      ],
      "metadata": {
        "id": "mK6tTuiT13cH"
      },
      "execution_count": null,
      "outputs": []
    },
    {
      "cell_type": "code",
      "source": [
        "clubRep"
      ],
      "metadata": {
        "id": "sYuyVGng16gq"
      },
      "execution_count": null,
      "outputs": []
    },
    {
      "cell_type": "code",
      "source": [
        "natPoint.head(10)"
      ],
      "metadata": {
        "id": "X6bbZ7SM1_aw"
      },
      "execution_count": null,
      "outputs": []
    },
    {
      "cell_type": "code",
      "source": [
        "natCode"
      ],
      "metadata": {
        "id": "TcnwiNzR2Bsc"
      },
      "execution_count": null,
      "outputs": []
    },
    {
      "cell_type": "code",
      "source": [
        "datafm_1 = dataset.copy()"
      ],
      "metadata": {
        "id": "QKavXyi42XPV"
      },
      "execution_count": 6,
      "outputs": []
    },
    {
      "cell_type": "code",
      "source": [
        "datafm_1[datafm_1['Transfer Value'] == '0']"
      ],
      "metadata": {
        "id": "qOw5nKbGk_En",
        "colab": {
          "base_uri": "https://localhost:8080/",
          "height": 79
        },
        "outputId": "2487fa56-5fb9-4619-827a-b88c3574cda4"
      },
      "execution_count": 7,
      "outputs": [
        {
          "output_type": "execute_result",
          "data": {
            "text/plain": [
              "Empty DataFrame\n",
              "Columns: [Name, Position, Transfer Value, Preferred Foot, Wage, Style, Best Role, Best Pos, Club, Based, Division, Nation, Height, Weight, Age, CA, PA, Acc, Aer, Agg, Agi, Ant, Bal, Bra, Cmd, Com, Cmp, Cnt, Cor, Cro, Dec, Det, Dri, Ecc, Fin, Fir, Fla, Fre, Han, Hea, Jum, Kic, Ldr, Lon, L Th, Mar, NatFin, OtB, 1v1, Pac, Pas, Pen, Pos, Pun, Ref, TRO, Sta, Str, Tck, Tea, Tec, Thr, Vis, Wor]\n",
              "Index: []\n",
              "\n",
              "[0 rows x 64 columns]"
            ],
            "text/html": [
              "\n",
              "  <div id=\"df-0ce9d1da-35ae-4b2e-b25d-149f19c58438\">\n",
              "    <div class=\"colab-df-container\">\n",
              "      <div>\n",
              "<style scoped>\n",
              "    .dataframe tbody tr th:only-of-type {\n",
              "        vertical-align: middle;\n",
              "    }\n",
              "\n",
              "    .dataframe tbody tr th {\n",
              "        vertical-align: top;\n",
              "    }\n",
              "\n",
              "    .dataframe thead th {\n",
              "        text-align: right;\n",
              "    }\n",
              "</style>\n",
              "<table border=\"1\" class=\"dataframe\">\n",
              "  <thead>\n",
              "    <tr style=\"text-align: right;\">\n",
              "      <th></th>\n",
              "      <th>Name</th>\n",
              "      <th>Position</th>\n",
              "      <th>Transfer Value</th>\n",
              "      <th>Preferred Foot</th>\n",
              "      <th>Wage</th>\n",
              "      <th>Style</th>\n",
              "      <th>Best Role</th>\n",
              "      <th>Best Pos</th>\n",
              "      <th>Club</th>\n",
              "      <th>Based</th>\n",
              "      <th>...</th>\n",
              "      <th>Ref</th>\n",
              "      <th>TRO</th>\n",
              "      <th>Sta</th>\n",
              "      <th>Str</th>\n",
              "      <th>Tck</th>\n",
              "      <th>Tea</th>\n",
              "      <th>Tec</th>\n",
              "      <th>Thr</th>\n",
              "      <th>Vis</th>\n",
              "      <th>Wor</th>\n",
              "    </tr>\n",
              "  </thead>\n",
              "  <tbody>\n",
              "  </tbody>\n",
              "</table>\n",
              "<p>0 rows × 64 columns</p>\n",
              "</div>\n",
              "      <button class=\"colab-df-convert\" onclick=\"convertToInteractive('df-0ce9d1da-35ae-4b2e-b25d-149f19c58438')\"\n",
              "              title=\"Convert this dataframe to an interactive table.\"\n",
              "              style=\"display:none;\">\n",
              "        \n",
              "  <svg xmlns=\"http://www.w3.org/2000/svg\" height=\"24px\"viewBox=\"0 0 24 24\"\n",
              "       width=\"24px\">\n",
              "    <path d=\"M0 0h24v24H0V0z\" fill=\"none\"/>\n",
              "    <path d=\"M18.56 5.44l.94 2.06.94-2.06 2.06-.94-2.06-.94-.94-2.06-.94 2.06-2.06.94zm-11 1L8.5 8.5l.94-2.06 2.06-.94-2.06-.94L8.5 2.5l-.94 2.06-2.06.94zm10 10l.94 2.06.94-2.06 2.06-.94-2.06-.94-.94-2.06-.94 2.06-2.06.94z\"/><path d=\"M17.41 7.96l-1.37-1.37c-.4-.4-.92-.59-1.43-.59-.52 0-1.04.2-1.43.59L10.3 9.45l-7.72 7.72c-.78.78-.78 2.05 0 2.83L4 21.41c.39.39.9.59 1.41.59.51 0 1.02-.2 1.41-.59l7.78-7.78 2.81-2.81c.8-.78.8-2.07 0-2.86zM5.41 20L4 18.59l7.72-7.72 1.47 1.35L5.41 20z\"/>\n",
              "  </svg>\n",
              "      </button>\n",
              "      \n",
              "  <style>\n",
              "    .colab-df-container {\n",
              "      display:flex;\n",
              "      flex-wrap:wrap;\n",
              "      gap: 12px;\n",
              "    }\n",
              "\n",
              "    .colab-df-convert {\n",
              "      background-color: #E8F0FE;\n",
              "      border: none;\n",
              "      border-radius: 50%;\n",
              "      cursor: pointer;\n",
              "      display: none;\n",
              "      fill: #1967D2;\n",
              "      height: 32px;\n",
              "      padding: 0 0 0 0;\n",
              "      width: 32px;\n",
              "    }\n",
              "\n",
              "    .colab-df-convert:hover {\n",
              "      background-color: #E2EBFA;\n",
              "      box-shadow: 0px 1px 2px rgba(60, 64, 67, 0.3), 0px 1px 3px 1px rgba(60, 64, 67, 0.15);\n",
              "      fill: #174EA6;\n",
              "    }\n",
              "\n",
              "    [theme=dark] .colab-df-convert {\n",
              "      background-color: #3B4455;\n",
              "      fill: #D2E3FC;\n",
              "    }\n",
              "\n",
              "    [theme=dark] .colab-df-convert:hover {\n",
              "      background-color: #434B5C;\n",
              "      box-shadow: 0px 1px 3px 1px rgba(0, 0, 0, 0.15);\n",
              "      filter: drop-shadow(0px 1px 2px rgba(0, 0, 0, 0.3));\n",
              "      fill: #FFFFFF;\n",
              "    }\n",
              "  </style>\n",
              "\n",
              "      <script>\n",
              "        const buttonEl =\n",
              "          document.querySelector('#df-0ce9d1da-35ae-4b2e-b25d-149f19c58438 button.colab-df-convert');\n",
              "        buttonEl.style.display =\n",
              "          google.colab.kernel.accessAllowed ? 'block' : 'none';\n",
              "\n",
              "        async function convertToInteractive(key) {\n",
              "          const element = document.querySelector('#df-0ce9d1da-35ae-4b2e-b25d-149f19c58438');\n",
              "          const dataTable =\n",
              "            await google.colab.kernel.invokeFunction('convertToInteractive',\n",
              "                                                     [key], {});\n",
              "          if (!dataTable) return;\n",
              "\n",
              "          const docLinkHtml = 'Like what you see? Visit the ' +\n",
              "            '<a target=\"_blank\" href=https://colab.research.google.com/notebooks/data_table.ipynb>data table notebook</a>'\n",
              "            + ' to learn more about interactive tables.';\n",
              "          element.innerHTML = '';\n",
              "          dataTable['output_type'] = 'display_data';\n",
              "          await google.colab.output.renderOutput(dataTable, element);\n",
              "          const docLink = document.createElement('div');\n",
              "          docLink.innerHTML = docLinkHtml;\n",
              "          element.appendChild(docLink);\n",
              "        }\n",
              "      </script>\n",
              "    </div>\n",
              "  </div>\n",
              "  "
            ]
          },
          "metadata": {},
          "execution_count": 7
        }
      ]
    },
    {
      "cell_type": "code",
      "source": [
        "contractExp"
      ],
      "metadata": {
        "id": "hpGw9mpDlJ3f"
      },
      "execution_count": null,
      "outputs": []
    },
    {
      "cell_type": "markdown",
      "source": [
        "#Update Division Reputation"
      ],
      "metadata": {
        "id": "InP9iJU92MJm"
      }
    },
    {
      "cell_type": "code",
      "source": [
        "datafm_1 = pd.merge(datafm_1,divRep[['Division','Division Reputation']],how='left', on=['Division'])"
      ],
      "metadata": {
        "id": "OaDr_bHT2Rki"
      },
      "execution_count": 10,
      "outputs": []
    },
    {
      "cell_type": "code",
      "source": [
        "for counts, values in enumerate(datafm_1):\n",
        "  if datafm_1['Division'][counts] == 'No Division':\n",
        "    datafm_1['Division Reputation'][counts] = 'No Division Reputation'\n",
        "\n",
        "datafm_1['Division Reputation'].fillna('Poor', inplace=True)"
      ],
      "metadata": {
        "id": "2p5WWBn12180"
      },
      "execution_count": 11,
      "outputs": []
    },
    {
      "cell_type": "code",
      "source": [
        "datafm_1[(datafm_1['Division'] != 'No Division') & (datafm_1['Club'] != 'No Club')]"
      ],
      "metadata": {
        "id": "DDBsa94r29zU"
      },
      "execution_count": null,
      "outputs": []
    },
    {
      "cell_type": "markdown",
      "source": [
        "#Update Club Reputation and Nation of Club"
      ],
      "metadata": {
        "id": "f9TXEqPV3ZKk"
      }
    },
    {
      "cell_type": "code",
      "source": [
        "datafm_2 = pd.merge(datafm_1,clubRep[['Club','Club Reputation', 'Nation of Club']],how='left', on=['Club'])"
      ],
      "metadata": {
        "id": "KcjsXSBI3fVB"
      },
      "execution_count": 19,
      "outputs": []
    },
    {
      "cell_type": "code",
      "source": [
        "datafm_2[datafm_2['Nation of Club'].isnull() == True]"
      ],
      "metadata": {
        "id": "AyGSMGvYHuLB"
      },
      "execution_count": null,
      "outputs": []
    },
    {
      "cell_type": "code",
      "source": [
        "natList = natPoint['Nation of Player'].unique()"
      ],
      "metadata": {
        "id": "Ve3Q3ptW3u-r"
      },
      "execution_count": 25,
      "outputs": []
    },
    {
      "cell_type": "code",
      "source": [
        "from difflib import SequenceMatcher\n",
        "\n",
        "def similar(a, b):\n",
        "  return SequenceMatcher(None, a, b).ratio()\n",
        "\n",
        "for i in datafm_2[(datafm_2['Nation of Club'].isnull() == True)].index:\n",
        "  if datafm_2['Division'][i] == 'No Division':\n",
        "    datafm_2['Nation of Club'][i] = 'No Nation Club'\n",
        "    pass\n",
        "\n",
        "  temp1 = 0\n",
        "  for j in range(227):\n",
        "    temp = similar(datafm_2['Division'][i].split(' ')[0],natList[j])\n",
        "    if temp > temp1:\n",
        "      temp1 = temp\n",
        "      temp_nation = natList[j]\n",
        "  datafm_2['Nation of Club'][i] = temp_nation"
      ],
      "metadata": {
        "id": "A2dG3bIc3-46"
      },
      "execution_count": null,
      "outputs": []
    },
    {
      "cell_type": "code",
      "source": [
        "datafm_2"
      ],
      "metadata": {
        "id": "5A32KIhXbKN-"
      },
      "execution_count": null,
      "outputs": []
    },
    {
      "cell_type": "code",
      "source": [
        "datafm_2.sort_values(['Division'], inplace=True)\n",
        "datafm_2['Club Reputation'].fillna(method='ffill', inplace=True)\n",
        "datafm_2.sort_index(inplace=True)"
      ],
      "metadata": {
        "id": "WeN0Wcjx4E8E"
      },
      "execution_count": null,
      "outputs": []
    },
    {
      "cell_type": "code",
      "source": [
        "datafm_2.info()"
      ],
      "metadata": {
        "id": "jfHa6ChT4qMh"
      },
      "execution_count": null,
      "outputs": []
    },
    {
      "cell_type": "markdown",
      "source": [
        "#Update Nation of Player"
      ],
      "metadata": {
        "id": "bqPI793X4xi4"
      }
    },
    {
      "cell_type": "code",
      "source": [
        "datafm_3 = pd.merge(datafm_2,natCode[['Nation','Nation of Player']],how='left', on=['Nation'])"
      ],
      "metadata": {
        "id": "4MqVv9yD41Od"
      },
      "execution_count": 36,
      "outputs": []
    },
    {
      "cell_type": "markdown",
      "source": [
        "#Update Nation Reputation and Continent of Player"
      ],
      "metadata": {
        "id": "YTCK_l-s5JMX"
      }
    },
    {
      "cell_type": "code",
      "source": [
        "datafm_4 = pd.merge(datafm_3,natPoint[['Nation of Player','Continent of Player', 'Nation Points']],how='left', on=['Nation of Player'])"
      ],
      "metadata": {
        "id": "bCqaoF0a9ciN"
      },
      "execution_count": 37,
      "outputs": []
    },
    {
      "cell_type": "code",
      "source": [
        "datafm_4.info()"
      ],
      "metadata": {
        "id": "jJ1Uq0zO92-8"
      },
      "execution_count": null,
      "outputs": []
    },
    {
      "cell_type": "markdown",
      "source": [
        "#Update Continent of Club"
      ],
      "metadata": {
        "id": "7Q8dEgcA9-Bv"
      }
    },
    {
      "cell_type": "code",
      "source": [
        "natPoint_x = natPoint.rename(columns={'Nation of Player':'Nation of Club', 'Continent of Player':'Continent of Club',})"
      ],
      "metadata": {
        "id": "mTWxrsAq-Bt9"
      },
      "execution_count": 40,
      "outputs": []
    },
    {
      "cell_type": "code",
      "source": [
        "datafm_5 = pd.merge(datafm_4,natPoint_x[['Nation of Club','Continent of Club']],how='left', on=['Nation of Club'])"
      ],
      "metadata": {
        "id": "ROSPiNob-Gu1"
      },
      "execution_count": 41,
      "outputs": []
    },
    {
      "cell_type": "code",
      "source": [
        "datafm_5"
      ],
      "metadata": {
        "id": "OwPPuhDj-bw2"
      },
      "execution_count": null,
      "outputs": []
    },
    {
      "cell_type": "markdown",
      "source": [
        "#Update Contract Expired"
      ],
      "metadata": {
        "id": "0szdyC8oB4Ip"
      }
    },
    {
      "cell_type": "code",
      "source": [
        "datafm_6 = datafm_5.sort_values(by=['Name']).reset_index()\n",
        "contractExp = contractExp.sort_values(by=['Name']).reset_index()\n",
        "datafm_6 = pd.merge(datafm_6,contractExp['Expired Date'], left_index=True, right_index=True )\n",
        "del datafm_6['index']"
      ],
      "metadata": {
        "id": "QpppvWvqlW-y"
      },
      "execution_count": 77,
      "outputs": []
    },
    {
      "cell_type": "code",
      "source": [
        "datafm_6"
      ],
      "metadata": {
        "id": "TfyYAD_6rkvQ"
      },
      "execution_count": null,
      "outputs": []
    }
  ]
}